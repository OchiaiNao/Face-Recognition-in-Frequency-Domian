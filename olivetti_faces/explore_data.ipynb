{
 "cells": [
  {
   "cell_type": "code",
   "execution_count": 1,
   "metadata": {},
   "outputs": [],
   "source": [
    "import numpy as np\n",
    "import matplotlib.pyplot as plt"
   ]
  },
  {
   "cell_type": "code",
   "execution_count": 2,
   "metadata": {},
   "outputs": [],
   "source": [
    "# data from https://www.kaggle.com/code/serkanpeldek/face-recognition-on-olivetti-dataset/notebook\n",
    "data=np.load(\"./data/olivetti_faces.npy\")\n",
    "target=np.load(\"./data/olivetti_faces_target.npy\")"
   ]
  },
  {
   "cell_type": "code",
   "execution_count": 3,
   "metadata": {},
   "outputs": [
    {
     "data": {
      "text/plain": [
       "(400, 64, 64)"
      ]
     },
     "execution_count": 3,
     "metadata": {},
     "output_type": "execute_result"
    }
   ],
   "source": [
    "data.shape"
   ]
  },
  {
   "cell_type": "code",
   "execution_count": 4,
   "metadata": {},
   "outputs": [
    {
     "data": {
      "text/plain": [
       "(400,)"
      ]
     },
     "execution_count": 4,
     "metadata": {},
     "output_type": "execute_result"
    }
   ],
   "source": [
    "target.shape"
   ]
  },
  {
   "cell_type": "code",
   "execution_count": 20,
   "metadata": {},
   "outputs": [
    {
     "data": {
      "text/plain": [
       "Counter({0: 10,\n",
       "         1: 10,\n",
       "         2: 10,\n",
       "         3: 10,\n",
       "         4: 10,\n",
       "         5: 10,\n",
       "         6: 10,\n",
       "         7: 10,\n",
       "         8: 10,\n",
       "         9: 10,\n",
       "         10: 10,\n",
       "         11: 10,\n",
       "         12: 10,\n",
       "         13: 10,\n",
       "         14: 10,\n",
       "         15: 10,\n",
       "         16: 10,\n",
       "         17: 10,\n",
       "         18: 10,\n",
       "         19: 10,\n",
       "         20: 10,\n",
       "         21: 10,\n",
       "         22: 10,\n",
       "         23: 10,\n",
       "         24: 10,\n",
       "         25: 10,\n",
       "         26: 10,\n",
       "         27: 10,\n",
       "         28: 10,\n",
       "         29: 10,\n",
       "         30: 10,\n",
       "         31: 10,\n",
       "         32: 10,\n",
       "         33: 10,\n",
       "         34: 10,\n",
       "         35: 10,\n",
       "         36: 10,\n",
       "         37: 10,\n",
       "         38: 10,\n",
       "         39: 10})"
      ]
     },
     "execution_count": 20,
     "metadata": {},
     "output_type": "execute_result"
    }
   ],
   "source": [
    "from collections import Counter\n",
    "Counter(target)"
   ]
  },
  {
   "cell_type": "code",
   "execution_count": 15,
   "metadata": {
    "scrolled": true
   },
   "outputs": [],
   "source": [
    "def show_picture_and_label(i):\n",
    "    f = plt.figure()\n",
    "    plt.imshow(data[i],cmap='gray')\n",
    "    plt.show()\n",
    "    print(\"label is: \", target[0])"
   ]
  },
  {
   "cell_type": "code",
   "execution_count": 21,
   "metadata": {},
   "outputs": [
    {
     "data": {
      "image/png": "[encoded data removed]",
      "text/plain": [
       "<Figure size 640x480 with 1 Axes>"
      ]
     },
     "metadata": {},
     "output_type": "display_data"
    },
    {
     "name": "stdout",
     "output_type": "stream",
     "text": [
      "label is:  0\n"
     ]
    }
   ],
   "source": [
    "show_picture_and_label(30)"
   ]
  },
  {
   "cell_type": "code",
   "execution_count": null,
   "metadata": {},
   "outputs": [],
   "source": []
  }
 ],
 "metadata": {
  "kernelspec": {
   "display_name": "Python 3",
   "language": "python",
   "name": "python3"
  },
  "language_info": {
   "codemirror_mode": {
    "name": "ipython",
    "version": 3
   },
   "file_extension": ".py",
   "mimetype": "text/x-python",
   "name": "python",
   "nbconvert_exporter": "python",
   "pygments_lexer": "ipython3",
   "version": "3.7.6"
  }
 },
 "nbformat": 4,
 "nbformat_minor": 4
}
