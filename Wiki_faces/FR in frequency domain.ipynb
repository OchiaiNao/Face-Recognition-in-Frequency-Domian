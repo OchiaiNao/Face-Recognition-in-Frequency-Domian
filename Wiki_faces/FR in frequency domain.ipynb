{
 "cells": [
  {
   "cell_type": "code",
   "execution_count": 28,
   "id": "acb145ff",
   "metadata": {},
   "outputs": [],
   "source": [
    "import cv2\n",
    "import os\n",
    "import numpy as  np\n",
    "import matplotlib.pyplot as plt\n",
    "from scipy.fftpack import dct   ## forward DCT\n",
    "from scipy.fftpack import idct ## inverse DCT"
   ]
  },
  {
   "cell_type": "code",
   "execution_count": 29,
   "id": "159e58ff",
   "metadata": {},
   "outputs": [],
   "source": [
    "datadir_face_train = 'trainingData/'\n",
    "trainingFaceImages = os.listdir(datadir_face_train)"
   ]
  },
  {
   "cell_type": "code",
   "execution_count": 30,
   "id": "69adb9db",
   "metadata": {},
   "outputs": [],
   "source": [
    "def make_lut_u():\n",
    "    return np.array([[[i,255-i,0] for i in range(256)]],dtype=np.uint8)\n",
    "\n",
    "def make_lut_v():\n",
    "    return np.array([[[0,255-i,i] for i in range(256)]],dtype=np.uint8)"
   ]
  },
  {
   "cell_type": "code",
   "execution_count": 31,
   "id": "155b841c",
   "metadata": {},
   "outputs": [],
   "source": [
    "### DCT\n",
    "# implement 2D DCT\n",
    "def dct2(a):\n",
    "    return dct(dct(a.T, norm='ortho').T, norm='ortho')\n",
    "\n",
    "# implement 2D IDCT\n",
    "def idct2(a):\n",
    "    return idct(idct(a.T, norm='ortho').T, norm='ortho')    "
   ]
  },
  {
   "cell_type": "code",
   "execution_count": 35,
   "id": "46c52c07",
   "metadata": {},
   "outputs": [
    {
     "name": "stdout",
     "output_type": "stream",
     "text": [
      "36118999_1983-08-12_2011.jpg\n",
      "2316999_1959-05-16_2012.jpg\n",
      "23151499_1988-09-13_2015.jpg\n",
      "17196499_1976-03-05_2011.jpg\n",
      "171099_1983-06-10_2012.jpg\n",
      "32147299_1986-07-28_2013.jpg\n",
      "880099_1948-07-16_2014.jpg\n"
     ]
    },
    {
     "ename": "error",
     "evalue": "OpenCV(4.5.3) /private/var/folders/24/8k48jl6d249_n_qfxwsl6xvm0000gn/T/pip-req-build-xxsyexfp/opencv/modules/imgproc/src/color.cpp:182: error: (-215:Assertion failed) !_src.empty() in function 'cvtColor'\n",
     "output_type": "error",
     "traceback": [
      "\u001b[0;31m---------------------------------------------------------------------------\u001b[0m",
      "\u001b[0;31merror\u001b[0m                                     Traceback (most recent call last)",
      "\u001b[0;32m/var/folders/wd/z38sgpjj2yx5qdc96wz1cdn80000gn/T/ipykernel_35786/957986654.py\u001b[0m in \u001b[0;36m<module>\u001b[0;34m\u001b[0m\n\u001b[1;32m      6\u001b[0m \u001b[0;34m\u001b[0m\u001b[0m\n\u001b[1;32m      7\u001b[0m     \u001b[0;31m# read lena RGB image and convert to YUV\u001b[0m\u001b[0;34m\u001b[0m\u001b[0;34m\u001b[0m\u001b[0;34m\u001b[0m\u001b[0m\n\u001b[0;32m----> 8\u001b[0;31m     \u001b[0mimg_yuv\u001b[0m \u001b[0;34m=\u001b[0m \u001b[0mcv2\u001b[0m\u001b[0;34m.\u001b[0m\u001b[0mcvtColor\u001b[0m\u001b[0;34m(\u001b[0m\u001b[0morigIm\u001b[0m\u001b[0;34m,\u001b[0m \u001b[0mcv2\u001b[0m\u001b[0;34m.\u001b[0m\u001b[0mCOLOR_BGR2YUV\u001b[0m\u001b[0;34m)\u001b[0m\u001b[0;34m\u001b[0m\u001b[0;34m\u001b[0m\u001b[0m\n\u001b[0m\u001b[1;32m      9\u001b[0m     \u001b[0my\u001b[0m\u001b[0;34m,\u001b[0m \u001b[0mu\u001b[0m\u001b[0;34m,\u001b[0m \u001b[0mv\u001b[0m \u001b[0;34m=\u001b[0m \u001b[0mcv2\u001b[0m\u001b[0;34m.\u001b[0m\u001b[0msplit\u001b[0m\u001b[0;34m(\u001b[0m\u001b[0mimg_yuv\u001b[0m\u001b[0;34m)\u001b[0m\u001b[0;34m\u001b[0m\u001b[0;34m\u001b[0m\u001b[0m\n\u001b[1;32m     10\u001b[0m \u001b[0;34m\u001b[0m\u001b[0m\n",
      "\u001b[0;31merror\u001b[0m: OpenCV(4.5.3) /private/var/folders/24/8k48jl6d249_n_qfxwsl6xvm0000gn/T/pip-req-build-xxsyexfp/opencv/modules/imgproc/src/color.cpp:182: error: (-215:Assertion failed) !_src.empty() in function 'cvtColor'\n"
     ]
    }
   ],
   "source": [
    "### Data preprocess\n",
    "for iFile in trainingFaceImages:\n",
    "    print(iFile)\n",
    "    ### Load the training image\n",
    "    origIm = cv2.imread(datadir_face_train + iFile)\n",
    "    \n",
    "    # read lena RGB image and convert to YUV\n",
    "    img_yuv = cv2.cvtColor(origIm, cv2.COLOR_BGR2YUV)\n",
    "    y, u, v = cv2.split(img_yuv)\n",
    "\n",
    "    lut_u, lut_v = make_lut_u(), make_lut_v()\n",
    "    \n",
    "    ## forward dct\n",
    "    imF = dct2(img_yuv)\n",
    "    \n",
    "    # do dp pertubation\n",
    "    ep = 1e-6\n",
    "    perturbation = ep * np.random.random_sample((imF.shape))\n",
    "    imF += perturbation\n",
    "    ## face recognition\n",
    "    \n",
    "    ## inverse dct\n",
    "    imi = idct2(imF)\n",
    "    \n",
    "    \n",
    "    # Convert back to BGR so we can apply the LUT and stack the images\n",
    "    y = cv2.cvtColor(y, cv2.COLOR_GRAY2BGR)\n",
    "    u = cv2.cvtColor(u, cv2.COLOR_GRAY2BGR)\n",
    "    v = cv2.cvtColor(v, cv2.COLOR_GRAY2BGR)\n",
    "\n",
    "    u_mapped = cv2.LUT(u, lut_u)\n",
    "    v_mapped = cv2.LUT(v, lut_v)\n",
    "\n",
    "    result = np.vstack([imi, y, u_mapped, v_mapped])\n",
    "\n",
    "cv2.imwrite('shed_combo.png', result)"
   ]
  },
  {
   "cell_type": "code",
   "execution_count": null,
   "id": "da4ab918",
   "metadata": {},
   "outputs": [],
   "source": [
    "### Training face process \n",
    "U_face = np.zeros((nDim, 1)) # mean\n",
    "sigma_face = np.zeros((nDim, nDim)) # variance of face\n",
    "diag_sigma_face = np.zeros((nDim, nDim)) # covariance of face\n",
    "x_training_face = [] # x array\n",
    "\n",
    "for iFile in trainingFaceImages:\n",
    "    ### Load the training image\n",
    "    origIm = cv2.imread(datadir_face_train + iFile)\n",
    "      \n",
    "    ### each image x codes:\n",
    "    # sobelx = cv2.Sobel(img,cv2.CV_64F,1,0,ksize=5)\n",
    "    # sobely = cv2.Sobel(img,cv2.CV_64F,0,1,ksize=5)\n",
    "    # imgeGradient = sobelx + sobely\n",
    "    # x_training_face.append(np.reshape(imgeGradient, (-1,1)))\n",
    "    x_training_face.append(np.reshape(origIm, (-1,1)))\n",
    "\n",
    "xNp_training_face = np.array(x_training_face) \n",
    "### MLE mean\n",
    "U_face = np.mean(xNp_training_face, axis = 0)\n",
    "\n",
    "#print(f\" U_face[100] = {U_face[100]}\")\n",
    "\n",
    "### MLE variance\n",
    "for x in xNp_training_face:\n",
    "    sigma_face = sigma_face + (x - U_face) * np.transpose(x-U_face)\n",
    "sigma_face = sigma_face / len(x_training_face)    \n",
    "\n",
    "#print(f\" diag_sigma[100] = {np.diag(sigma_face)[100]}\")\n",
    "\n",
    "### MLE covaricance\n",
    "diag_sigma_face = np.diag(np.diag(sigma_face))\n",
    "\n",
    "#print(f\"xNp.shape = {xNp_training_face.shape}\")\n",
    "#print(len(x_training_face))\n",
    "#print(U_face.shape)\n",
    "#print(sigma_face.shape)\n",
    "#print(diag_sigma_face.shape)"
   ]
  }
 ],
 "metadata": {
  "kernelspec": {
   "display_name": "Python 3 (ipykernel)",
   "language": "python",
   "name": "python3"
  },
  "language_info": {
   "codemirror_mode": {
    "name": "ipython",
    "version": 3
   },
   "file_extension": ".py",
   "mimetype": "text/x-python",
   "name": "python",
   "nbconvert_exporter": "python",
   "pygments_lexer": "ipython3",
   "version": "3.8.0"
  }
 },
 "nbformat": 4,
 "nbformat_minor": 5
}
