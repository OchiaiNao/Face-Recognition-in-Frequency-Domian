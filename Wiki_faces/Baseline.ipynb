{
 "cells": [
  {
   "cell_type": "code",
   "execution_count": 1,
   "id": "444298f7",
   "metadata": {},
   "outputs": [],
   "source": [
    "import cv2\n",
    "import os\n",
    "import numpy as  np\n",
    "import matplotlib.pyplot as plt"
   ]
  },
  {
   "cell_type": "code",
   "execution_count": 2,
   "id": "9c65798e",
   "metadata": {},
   "outputs": [],
   "source": [
    "### File directory\n",
    "datadir_face_test = 'testingData/face/'\n",
    "datadir_bg_test = 'testingData/background/'\n",
    "datadir_face_train = 'trainingData/face/'\n",
    "datadir_bg_train = 'trainingData/background/'\n",
    "trainingFaceImages = os.listdir(datadir_face_train)\n",
    "trainingBgImages = os.listdir(datadir_bg_train)\n",
    "testingFaceImages = os.listdir(datadir_face_test)\n",
    "testingBgImages = os.listdir(datadir_bg_test)\n",
    "### Parameters\n",
    "nDim = 900 "
   ]
  },
  {
   "cell_type": "code",
   "execution_count": 3,
   "id": "a258bdcc",
   "metadata": {
    "scrolled": false
   },
   "outputs": [],
   "source": [
    "### Training face process \n",
    "U_face = np.zeros((nDim, 1)) # mean\n",
    "sigma_face = np.zeros((nDim, nDim)) # variance of face\n",
    "diag_sigma_face = np.zeros((nDim, nDim)) # covariance of face\n",
    "x_training_face = [] # x array\n",
    "\n",
    "for iFile in trainingFaceImages:\n",
    "    ### Load the training image\n",
    "    origIm = cv2.imread(datadir_face_train + iFile)\n",
    "      \n",
    "    ### each image x codes:\n",
    "    # sobelx = cv2.Sobel(img,cv2.CV_64F,1,0,ksize=5)\n",
    "    # sobely = cv2.Sobel(img,cv2.CV_64F,0,1,ksize=5)\n",
    "    # imgeGradient = sobelx + sobely\n",
    "    # x_training_face.append(np.reshape(imgeGradient, (-1,1)))\n",
    "    x_training_face.append(np.reshape(origIm, (-1,1)))\n",
    "\n",
    "xNp_training_face = np.array(x_training_face) \n",
    "### MLE mean\n",
    "U_face = np.mean(xNp_training_face, axis = 0)\n",
    "\n",
    "#print(f\" U_face[100] = {U_face[100]}\")\n",
    "\n",
    "### MLE variance\n",
    "for x in xNp_training_face:\n",
    "    sigma_face = sigma_face + (x - U_face) * np.transpose(x-U_face)\n",
    "sigma_face = sigma_face / len(x_training_face)    \n",
    "\n",
    "#print(f\" diag_sigma[100] = {np.diag(sigma_face)[100]}\")\n",
    "\n",
    "### MLE covaricance\n",
    "diag_sigma_face = np.diag(np.diag(sigma_face))\n",
    "\n",
    "#print(f\"xNp.shape = {xNp_training_face.shape}\")\n",
    "#print(len(x_training_face))\n",
    "#print(U_face.shape)\n",
    "#print(sigma_face.shape)\n",
    "#print(diag_sigma_face.shape)"
   ]
  },
  {
   "cell_type": "code",
   "execution_count": 4,
   "id": "9b8293b9",
   "metadata": {},
   "outputs": [],
   "source": [
    "### Training background process\n",
    "U_bg = np.zeros((nDim, 1)) # mean\n",
    "sigma_bg = np.zeros((nDim, nDim)) # variance of bg\n",
    "diag_sigma_bg = np.zeros((nDim, nDim)) # covariance of bg\n",
    "x_training_bg = [] # x array\n",
    "\n",
    "for iFile in trainingBgImages:\n",
    "    ### Load the training image\n",
    "    origIm = cv2.imread(datadir_bg_train + iFile)\n",
    "      \n",
    "    ### each image x codes:\n",
    "    x_training_bg.append(np.reshape(origIm, (-1,1)))\n",
    "\n",
    "xNp_training_bg = np.array(x_training_bg)\n",
    "### MLE mean\n",
    "U_bg = np.mean(xNp_training_bg, axis = 0)\n",
    "\n",
    "### MLE variance\n",
    "for x in xNp_training_bg:\n",
    "    sigma_bg = sigma_bg + (x - U_bg) * np.transpose(x-U_bg)\n",
    "sigma_bg = sigma_bg / len(x_training_bg)\n",
    "\n",
    "### MLE covaricance\n",
    "diag_sigma_bg = np.diag(np.diag(sigma_bg))\n",
    "\n",
    "#print(f\"xNp_bg.shape = {xNp_training_bg.shape}\")\n",
    "#print(len(x_training_bg))\n",
    "#print(U_bg.shape)\n",
    "#print(sigma_bg.shape)\n",
    "#print(diag_sigma_bg.shape)"
   ]
  },
  {
   "cell_type": "code",
   "execution_count": 5,
   "id": "43f1b30d",
   "metadata": {},
   "outputs": [
    {
     "name": "stdout",
     "output_type": "stream",
     "text": [
      "191\n",
      "232\n",
      "0.8232758620689655\n"
     ]
    }
   ],
   "source": [
    "### Testing face images\n",
    "x_testing_face = [] # x array\n",
    "N_classified_face_from_face = 0\n",
    "accuracy_face = 0\n",
    "\n",
    "for iFile in testingFaceImages:  \n",
    "    ### Load the testing image \n",
    "    origIm = cv2.imread(datadir_face_test + iFile)\n",
    "    \n",
    "    ### each image x codes:\n",
    "    x_testing_face.append(np.reshape(origIm, (-1,1)))\n",
    "\n",
    "for testX in x_testing_face:\n",
    "    cov_face = np.reshape(np.diag(diag_sigma_face), (-1, 1))\n",
    "    term1_face = np.sum(np.log(cov_face))\n",
    "    term2_face = np.sum(np.power((testX - U_face),2) / (2 * cov_face))\n",
    "    probFace = -0.5 * term1_face - term2_face\n",
    "    \n",
    "    cov_bg = np.reshape(np.diag(diag_sigma_bg), (-1, 1))\n",
    "    term1_bg = np.sum(np.log(cov_bg))\n",
    "    term2_bg = np.sum(np.power((testX - U_bg),2) / (2 * cov_bg))\n",
    "    probBg = -0.5 * term1_bg - term2_bg\n",
    "    \n",
    "    if probFace > probBg:\n",
    "        N_classified_face_from_face += 1\n",
    "    \n",
    "print(N_classified_face_from_face)\n",
    "print(len(x_testing_face))\n",
    "accuracy_face = N_classified_face_from_face / len(x_testing_face)\n",
    "print(accuracy_face)"
   ]
  },
  {
   "cell_type": "code",
   "execution_count": 6,
   "id": "5389a9c1",
   "metadata": {},
   "outputs": [
    {
     "name": "stdout",
     "output_type": "stream",
     "text": [
      "421\n",
      "564\n",
      "0.7464539007092199\n"
     ]
    }
   ],
   "source": [
    "### Testing background images\n",
    "x_testing_bg = [] # x array\n",
    "N_classified_bg_from_bg = 0\n",
    "accuracy_bg = 0\n",
    "\n",
    "for iFile in testingBgImages:  \n",
    "    ### Load the testing image \n",
    "    origIm = cv2.imread(datadir_bg_test + iFile)\n",
    "    \n",
    "    ### each image x codes:\n",
    "    x_testing_bg.append(np.reshape(origIm, (-1,1)))\n",
    "\n",
    "for testX in x_testing_bg:\n",
    "    cov_face = np.reshape(np.diag(diag_sigma_face), (-1, 1))\n",
    "    term1_face = np.sum(np.log(cov_face))\n",
    "    term2_face = np.sum(np.power((testX - U_face),2) / (2 * cov_face))\n",
    "    probFace = -0.5 * term1_face - term2_face\n",
    "    #print(probFace)\n",
    "    \n",
    "    cov_bg = np.reshape(np.diag(diag_sigma_bg), (-1, 1))\n",
    "    term1_bg = np.sum(np.log(cov_bg))\n",
    "    term2_bg = np.sum(np.power((testX - U_bg),2) / (2 * cov_bg))\n",
    "    probBg = -0.5 * term1_bg - term2_bg\n",
    "    #print(probBg)\n",
    "    \n",
    "    if probFace < probBg:\n",
    "        N_classified_bg_from_bg += 1\n",
    "    \n",
    "print(N_classified_bg_from_bg)\n",
    "print(len(x_testing_bg))\n",
    "accuracy_bg = N_classified_bg_from_bg / len(x_testing_bg)\n",
    "print(accuracy_bg)"
   ]
  },
  {
   "cell_type": "code",
   "execution_count": null,
   "id": "a580d0e5",
   "metadata": {},
   "outputs": [],
   "source": []
  }
 ],
 "metadata": {
  "kernelspec": {
   "display_name": "Python 3 (ipykernel)",
   "language": "python",
   "name": "python3"
  },
  "language_info": {
   "codemirror_mode": {
    "name": "ipython",
    "version": 3
   },
   "file_extension": ".py",
   "mimetype": "text/x-python",
   "name": "python",
   "nbconvert_exporter": "python",
   "pygments_lexer": "ipython3",
   "version": "3.8.0"
  }
 },
 "nbformat": 4,
 "nbformat_minor": 5
}
